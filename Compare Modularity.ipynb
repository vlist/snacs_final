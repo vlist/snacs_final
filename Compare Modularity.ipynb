{
 "cells": [
  {
   "cell_type": "code",
   "execution_count": 1,
   "metadata": {},
   "outputs": [
    {
     "name": "stderr",
     "output_type": "stream",
     "text": [
      "/var/folders/xc/yp5mkx455gq2n2b658qm_3_c0000gn/T/ipykernel_80814/3050462045.py:3: DeprecationWarning: This package has been superseded by the `leidenalg` package and will no longer be maintained. Please upgrade to the `leidenalg` package.\n",
      "  import louvain\n"
     ]
    }
   ],
   "source": [
    "import igraph as ig\n",
    "import leidenalg\n",
    "import louvain\n",
    "\n",
    "import datasets.cosnology as cosnology\n",
    "import datasets.email_enron as email_enron\n",
    "import datasets.facebook_combined as facebook_combined\n",
    "import datasets.brightkite_edges as brightkite\n",
    "import datasets.roadnet_CA as roadnet_CA\n",
    "import datasets.wiki_vote as wiki_vote\n",
    "\n",
    "import networkx as nx\n",
    "\n",
    "import random\n",
    "random.seed(0)\n",
    "\n",
    "graphs = [cosnology.get_graph(), email_enron.get_graph(), facebook_combined.get_graph(), wiki_vote.get_graph() ]\n",
    "graphs = [ig.Graph.from_networkx(g) for g in graphs]\n",
    "graph_names = ['Cosnology', 'Email Enron', 'Facebook', 'Wiki Vote' ]\n",
    "\n",
    "def get_communities(graph):\n",
    "    communities_leiden = leidenalg.find_partition(graph, leidenalg.ModularityVertexPartition)\n",
    "    communities_louvain = louvain.find_partition(graph, louvain.ModularityVertexPartition)\n",
    "    communities_multilevel = graph.community_multilevel()\n",
    "    communities_infomap = graph.community_infomap()\n",
    "\n",
    "    communities = [communities_leiden, communities_louvain, communities_multilevel, communities_infomap]\n",
    "    return communities\n",
    "\n"
   ]
  },
  {
   "cell_type": "code",
   "execution_count": 2,
   "metadata": {},
   "outputs": [
    {
     "name": "stdout",
     "output_type": "stream",
     "text": [
      "Cosnology\n",
      "Email Enron\n",
      "Facebook\n",
      "Wiki Vote\n"
     ]
    }
   ],
   "source": [
    "results = {\n",
    "    \"Leiden\": [],\n",
    "    \"Louvain\": [],\n",
    "    \"Eigenvector\": [],\n",
    "    \"Infomap\": []\n",
    "}\n",
    "\n",
    "for i, graph in enumerate(graphs):\n",
    "    print(graph_names[i])\n",
    "    communities = get_communities(graph)\n",
    "    results[\"Leiden\"].append(communities[0].modularity)\n",
    "    results[\"Louvain\"].append(communities[1].modularity)\n",
    "    results[\"Eigenvector\"].append(communities[2].modularity)\n",
    "    results[\"Infomap\"].append(communities[3].modularity)"
   ]
  },
  {
   "cell_type": "code",
   "execution_count": 3,
   "metadata": {},
   "outputs": [
    {
     "data": {
      "text/plain": [
       "{'Leiden': [0.8664559002194151,\n",
       "  0.6278927941548764,\n",
       "  0.8357795867834268,\n",
       "  0.4251027525646482],\n",
       " 'Louvain': [0.8624534996751836,\n",
       "  0.6111960880267792,\n",
       "  0.834934055810478,\n",
       "  0.4291833087532867],\n",
       " 'Eigenvector': [0.8608342687363907,\n",
       "  0.6102143551465803,\n",
       "  0.8349793603940694,\n",
       "  0.42175089283071754],\n",
       " 'Infomap': [0.7931521139347619,\n",
       "  0.5265584565954686,\n",
       "  0.8093677757979864,\n",
       "  0.3818644692572311]}"
      ]
     },
     "execution_count": 3,
     "metadata": {},
     "output_type": "execute_result"
    }
   ],
   "source": [
    "results"
   ]
  }
 ],
 "metadata": {
  "kernelspec": {
   "display_name": "sna",
   "language": "python",
   "name": "python3"
  },
  "language_info": {
   "codemirror_mode": {
    "name": "ipython",
    "version": 3
   },
   "file_extension": ".py",
   "mimetype": "text/x-python",
   "name": "python",
   "nbconvert_exporter": "python",
   "pygments_lexer": "ipython3",
   "version": "3.10.13"
  }
 },
 "nbformat": 4,
 "nbformat_minor": 2
}
