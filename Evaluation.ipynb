{
 "cells": [
  {
   "cell_type": "code",
   "execution_count": 1,
   "metadata": {},
   "outputs": [
    {
     "name": "stderr",
     "output_type": "stream",
     "text": [
      "/var/folders/xc/yp5mkx455gq2n2b658qm_3_c0000gn/T/ipykernel_76681/1039156547.py:3: DeprecationWarning: This package has been superseded by the `leidenalg` package and will no longer be maintained. Please upgrade to the `leidenalg` package.\n",
      "  import louvain\n"
     ]
    }
   ],
   "source": [
    "import igraph as ig\n",
    "import leidenalg\n",
    "import louvain\n",
    "\n",
    "from datasets.wiki_vote import get_graph\n",
    "\n",
    "import random\n",
    "random.seed(0)\n",
    "\n",
    "graph = get_graph()\n",
    "graph = ig.Graph.from_networkx(graph)"
   ]
  },
  {
   "cell_type": "code",
   "execution_count": 2,
   "metadata": {},
   "outputs": [],
   "source": [
    "file_path = \"datasets/wiki-Vote.txt/communities.txt\"\n",
    "community_dict = {}\n",
    "\n",
    "# Read and process the file\n",
    "with open(file_path, \"r\") as file:\n",
    "    for line in file:\n",
    "        # Split each line into community index and nodes\n",
    "        community_index, nodes = line.split(\":\")\n",
    "        community_index = int(community_index.split()[1])  # Extract community number\n",
    "        nodes = eval(nodes.strip())  # Convert string list to actual list\n",
    "        for node in nodes:\n",
    "            community_dict[node] = community_index\n",
    "sorted_values = [community_dict[key] for key in sorted(community_dict.keys())]\n",
    "\n",
    "from igraph import VertexClustering\n",
    "ground_truth = VertexClustering(graph, membership=sorted_values)"
   ]
  },
  {
   "cell_type": "code",
   "execution_count": null,
   "metadata": {},
   "outputs": [],
   "source": [
    "communities_leiden = leidenalg.find_partition(graph, leidenalg.ModularityVertexPartition)\n",
    "communities_louvain = louvain.find_partition(graph, louvain.ModularityVertexPartition)\n",
    "communities_eigenvector = graph.community_leading_eigenvector()\n",
    "communities_infomap = graph.community_infomap()\n",
    "\n",
    "\n",
    "communities = [communities_leiden, communities_louvain, communities_eigenvector, communities_infomap]"
   ]
  },
  {
   "cell_type": "code",
   "execution_count": 5,
   "metadata": {},
   "outputs": [
    {
     "name": "stdout",
     "output_type": "stream",
     "text": [
      "vi\n",
      "1.3650297132071008\n",
      "1.5571455989014402\n",
      "1.408612524809585\n",
      "2.813596902422727\n",
      "\n",
      "nmi\n",
      "0.0911647291228668\n",
      "0.08082620525035795\n",
      "0.08271354049930806\n",
      "0.04640714884351697\n",
      "\n",
      "rand\n",
      "0.2665450189672814\n",
      "0.2283468642691028\n",
      "0.26442932892314164\n",
      "0.18320755980655093\n",
      "\n"
     ]
    }
   ],
   "source": [
    "metrics = ['vi', 'nmi', 'rand']\n",
    "for metric in metrics:\n",
    "    print(metric)\n",
    "    for community in communities:\n",
    "        print(ground_truth.compare_to(community, method=metric))\n",
    "    print()"
   ]
  }
 ],
 "metadata": {
  "kernelspec": {
   "display_name": "sna",
   "language": "python",
   "name": "python3"
  },
  "language_info": {
   "codemirror_mode": {
    "name": "ipython",
    "version": 3
   },
   "file_extension": ".py",
   "mimetype": "text/x-python",
   "name": "python",
   "nbconvert_exporter": "python",
   "pygments_lexer": "ipython3",
   "version": "3.10.13"
  }
 },
 "nbformat": 4,
 "nbformat_minor": 2
}
