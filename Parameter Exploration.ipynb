{
 "cells": [
  {
   "cell_type": "markdown",
   "id": "affd582c",
   "metadata": {},
   "source": [
    "# Parameter Exploration"
   ]
  },
  {
   "cell_type": "code",
   "execution_count": null,
   "id": "fef6af20",
   "metadata": {},
   "outputs": [],
   "source": [
    "import random\n",
    "from timeit import default_timer as timer\n",
    "\n",
    "import networkx as nx\n",
    "\n",
    "import matplotlib.pyplot as plt\n",
    "\n",
    "from community_detection.utils import Partition, argmax\n",
    "from community_detection.leiden import leiden as leiden_o\n",
    "from community_detection.louvain import louvain as louvain_o\n",
    "from community_detection.quality_functions import CPM, Modularity\n",
    "\n",
    "SEED = 0"
   ]
  },
  {
   "cell_type": "code",
   "execution_count": null,
   "id": "7df3fd2e",
   "metadata": {},
   "outputs": [
    {
     "name": "stdout",
     "output_type": "stream",
     "text": [
      "Loaded len(G.nodes)=4039 and len(G.edges)=88234.\n"
     ]
    }
   ],
   "source": [
    "import datasets.cosnology as cosnology\n",
    "G = cosnology.get_graph()\n",
    "print(f\"Loaded {len(G.nodes)=} and {len(G.edges)=}.\")"
   ]
  },
  {
   "cell_type": "code",
   "execution_count": 3,
   "id": "1c9f59e3",
   "metadata": {},
   "outputs": [],
   "source": [
    "\n",
    "def leiden(*args, **kwargs):\n",
    "    random.seed(SEED)\n",
    "    start = timer()\n",
    "    result = leiden_o(*args, **kwargs)\n",
    "    runtime = timer() - start\n",
    "    return result, runtime\n",
    "\n",
    "\n",
    "def louvain(*args, **kwargs):\n",
    "    random.seed(SEED)\n",
    "    start = timer()\n",
    "    result = louvain_o(*args, **kwargs)\n",
    "    runtime = timer() - start\n",
    "    return result, runtime"
   ]
  },
  {
   "cell_type": "code",
   "execution_count": 4,
   "id": "0e481484",
   "metadata": {},
   "outputs": [],
   "source": [
    "resolutions_mod = [0.40 + 0.02 * d for d in range(50)] # 0.40 ... 1.60\n",
    "resolutions_cpm = [0.04 + 0.02 * d for d in range(50)] # 0.04 ... 0.98"
   ]
  },
  {
   "cell_type": "code",
   "execution_count": 5,
   "id": "1374600f",
   "metadata": {},
   "outputs": [
    {
     "name": "stderr",
     "output_type": "stream",
     "text": [
      "Louvain Modularity: 100%|██████████| 50/50 [04:15<00:00,  5.11s/it]\n",
      "Leiden Modularity: 100%|██████████| 50/50 [14:47<00:00, 17.76s/it]\n",
      "Louvain CPM: 100%|██████████| 50/50 [08:52<00:00, 10.64s/it]\n",
      "Leiden CPM:   0%|          | 0/50 [00:00<?, ?it/s]"
     ]
    },
    {
     "ename": "OverflowError",
     "evalue": "math range error",
     "output_type": "error",
     "traceback": [
      "\u001b[0;31m---------------------------------------------------------------------------\u001b[0m",
      "\u001b[0;31mOverflowError\u001b[0m                             Traceback (most recent call last)",
      "Cell \u001b[0;32mIn[5], line 8\u001b[0m\n\u001b[1;32m      6\u001b[0m \u001b[38;5;66;03m# Now repeat this with CPM as the quality function\u001b[39;00m\n\u001b[1;32m      7\u001b[0m coms_louvain_cpm, times_louvain_cpm \u001b[38;5;241m=\u001b[39m \u001b[38;5;28mmap\u001b[39m(\u001b[38;5;28mlist\u001b[39m, \u001b[38;5;28mzip\u001b[39m(\u001b[38;5;241m*\u001b[39m[louvain(G, CPM(res)) \u001b[38;5;28;01mfor\u001b[39;00m res \u001b[38;5;129;01min\u001b[39;00m tqdm(resolutions_cpm, desc\u001b[38;5;241m=\u001b[39m\u001b[38;5;124m\"\u001b[39m\u001b[38;5;124mLouvain CPM\u001b[39m\u001b[38;5;124m\"\u001b[39m)]))\n\u001b[0;32m----> 8\u001b[0m coms_leiden_cpm,  times_leiden_cpm  \u001b[38;5;241m=\u001b[39m \u001b[38;5;28mmap\u001b[39m(\u001b[38;5;28mlist\u001b[39m, \u001b[38;5;28mzip\u001b[39m(\u001b[38;5;241m*\u001b[39m[leiden (G, CPM(res), θ\u001b[38;5;241m=\u001b[39m\u001b[38;5;241m0.8\u001b[39m) \u001b[38;5;28;01mfor\u001b[39;00m res \u001b[38;5;129;01min\u001b[39;00m tqdm(resolutions_cpm, desc\u001b[38;5;241m=\u001b[39m\u001b[38;5;124m\"\u001b[39m\u001b[38;5;124mLeiden CPM\u001b[39m\u001b[38;5;124m\"\u001b[39m)]))\n",
      "Cell \u001b[0;32mIn[5], line 8\u001b[0m, in \u001b[0;36m<listcomp>\u001b[0;34m(.0)\u001b[0m\n\u001b[1;32m      6\u001b[0m \u001b[38;5;66;03m# Now repeat this with CPM as the quality function\u001b[39;00m\n\u001b[1;32m      7\u001b[0m coms_louvain_cpm, times_louvain_cpm \u001b[38;5;241m=\u001b[39m \u001b[38;5;28mmap\u001b[39m(\u001b[38;5;28mlist\u001b[39m, \u001b[38;5;28mzip\u001b[39m(\u001b[38;5;241m*\u001b[39m[louvain(G, CPM(res)) \u001b[38;5;28;01mfor\u001b[39;00m res \u001b[38;5;129;01min\u001b[39;00m tqdm(resolutions_cpm, desc\u001b[38;5;241m=\u001b[39m\u001b[38;5;124m\"\u001b[39m\u001b[38;5;124mLouvain CPM\u001b[39m\u001b[38;5;124m\"\u001b[39m)]))\n\u001b[0;32m----> 8\u001b[0m coms_leiden_cpm,  times_leiden_cpm  \u001b[38;5;241m=\u001b[39m \u001b[38;5;28mmap\u001b[39m(\u001b[38;5;28mlist\u001b[39m, \u001b[38;5;28mzip\u001b[39m(\u001b[38;5;241m*\u001b[39m[\u001b[43mleiden\u001b[49m\u001b[43m \u001b[49m\u001b[43m(\u001b[49m\u001b[43mG\u001b[49m\u001b[43m,\u001b[49m\u001b[43m \u001b[49m\u001b[43mCPM\u001b[49m\u001b[43m(\u001b[49m\u001b[43mres\u001b[49m\u001b[43m)\u001b[49m\u001b[43m,\u001b[49m\u001b[43m \u001b[49m\u001b[43mθ\u001b[49m\u001b[38;5;241;43m=\u001b[39;49m\u001b[38;5;241;43m0.8\u001b[39;49m\u001b[43m)\u001b[49m \u001b[38;5;28;01mfor\u001b[39;00m res \u001b[38;5;129;01min\u001b[39;00m tqdm(resolutions_cpm, desc\u001b[38;5;241m=\u001b[39m\u001b[38;5;124m\"\u001b[39m\u001b[38;5;124mLeiden CPM\u001b[39m\u001b[38;5;124m\"\u001b[39m)]))\n",
      "Cell \u001b[0;32mIn[3], line 4\u001b[0m, in \u001b[0;36mleiden\u001b[0;34m(*args, **kwargs)\u001b[0m\n\u001b[1;32m      2\u001b[0m random\u001b[38;5;241m.\u001b[39mseed(SEED)\n\u001b[1;32m      3\u001b[0m start \u001b[38;5;241m=\u001b[39m timer()\n\u001b[0;32m----> 4\u001b[0m result \u001b[38;5;241m=\u001b[39m \u001b[43mleiden_o\u001b[49m\u001b[43m(\u001b[49m\u001b[38;5;241;43m*\u001b[39;49m\u001b[43margs\u001b[49m\u001b[43m,\u001b[49m\u001b[43m \u001b[49m\u001b[38;5;241;43m*\u001b[39;49m\u001b[38;5;241;43m*\u001b[39;49m\u001b[43mkwargs\u001b[49m\u001b[43m)\u001b[49m\n\u001b[1;32m      5\u001b[0m runtime \u001b[38;5;241m=\u001b[39m timer() \u001b[38;5;241m-\u001b[39m start\n\u001b[1;32m      6\u001b[0m \u001b[38;5;28;01mreturn\u001b[39;00m result, runtime\n",
      "File \u001b[0;32m~/Documents/Homework/SNA/Final/louvain_leiden/community_detection/leiden.py:75\u001b[0m, in \u001b[0;36mleiden\u001b[0;34m(G, H, P, θ, γ, weight)\u001b[0m\n\u001b[1;32m     72\u001b[0m 𝓟ₚ \u001b[38;5;241m=\u001b[39m 𝓟\n\u001b[1;32m     74\u001b[0m \u001b[38;5;66;03m# Refine the partition created by fast local moving, potentially splitting a community into multiple parts\u001b[39;00m\n\u001b[0;32m---> 75\u001b[0m 𝓟ᵣ \u001b[38;5;241m=\u001b[39m \u001b[43mrefine_partition\u001b[49m\u001b[43m(\u001b[49m\u001b[43mG\u001b[49m\u001b[43m,\u001b[49m\u001b[43m \u001b[49m\u001b[43m𝓟\u001b[49m\u001b[43m,\u001b[49m\u001b[43m \u001b[49m\u001b[43m𝓗\u001b[49m\u001b[43m,\u001b[49m\u001b[43m \u001b[49m\u001b[43mθ\u001b[49m\u001b[43m,\u001b[49m\u001b[43m \u001b[49m\u001b[43mγ\u001b[49m\u001b[43m)\u001b[49m\n\u001b[1;32m     76\u001b[0m \u001b[38;5;66;03m# Create the aggregate graph of G based on 𝓟ᵣ …\u001b[39;00m\n\u001b[1;32m     77\u001b[0m G \u001b[38;5;241m=\u001b[39m 𝓟ᵣ\u001b[38;5;241m.\u001b[39maggregate_graph()\n",
      "File \u001b[0;32m~/Documents/Homework/SNA/Final/louvain_leiden/community_detection/leiden.py:137\u001b[0m, in \u001b[0;36mrefine_partition\u001b[0;34m(G, P, H, θ, γ)\u001b[0m\n\u001b[1;32m    134\u001b[0m \u001b[38;5;66;03m# Visit all communities\u001b[39;00m\n\u001b[1;32m    135\u001b[0m \u001b[38;5;28;01mfor\u001b[39;00m C \u001b[38;5;129;01min\u001b[39;00m 𝓟:\n\u001b[1;32m    136\u001b[0m     \u001b[38;5;66;03m# refine community\u001b[39;00m\n\u001b[0;32m--> 137\u001b[0m     𝓟ᵣ \u001b[38;5;241m=\u001b[39m \u001b[43mmerge_nodes_subset\u001b[49m\u001b[43m(\u001b[49m\u001b[43mG\u001b[49m\u001b[43m,\u001b[49m\u001b[43m \u001b[49m\u001b[43m𝓟ᵣ\u001b[49m\u001b[43m,\u001b[49m\u001b[43m \u001b[49m\u001b[43m𝓗\u001b[49m\u001b[43m,\u001b[49m\u001b[43m \u001b[49m\u001b[43mθ\u001b[49m\u001b[43m,\u001b[49m\u001b[43m \u001b[49m\u001b[43mγ\u001b[49m\u001b[43m,\u001b[49m\u001b[43m \u001b[49m\u001b[43mC\u001b[49m\u001b[43m)\u001b[49m\n\u001b[1;32m    139\u001b[0m \u001b[38;5;28;01mreturn\u001b[39;00m 𝓟ᵣ\n",
      "File \u001b[0;32m~/Documents/Homework/SNA/Final/louvain_leiden/community_detection/leiden.py:167\u001b[0m, in \u001b[0;36mmerge_nodes_subset\u001b[0;34m(G, P, H, θ, γ, S)\u001b[0m\n\u001b[1;32m    165\u001b[0m communities \u001b[38;5;241m=\u001b[39m [(C, 𝛥𝓗) \u001b[38;5;28;01mfor\u001b[39;00m (C, 𝛥𝓗) \u001b[38;5;129;01min\u001b[39;00m ((C, 𝓗\u001b[38;5;241m.\u001b[39mdelta(𝓟, v, C)) \u001b[38;5;28;01mfor\u001b[39;00m C \u001b[38;5;129;01min\u001b[39;00m 𝓣) \u001b[38;5;28;01mif\u001b[39;00m 𝛥𝓗 \u001b[38;5;241m>\u001b[39m\u001b[38;5;241m=\u001b[39m \u001b[38;5;241m0\u001b[39m]\n\u001b[1;32m    166\u001b[0m \u001b[38;5;66;03m# Calculate the weights for the random choice using the 𝛥𝓗 values\u001b[39;00m\n\u001b[0;32m--> 167\u001b[0m weights \u001b[38;5;241m=\u001b[39m [exp(𝛥𝓗 \u001b[38;5;241m/\u001b[39m θ) \u001b[38;5;28;01mfor\u001b[39;00m (C, 𝛥𝓗) \u001b[38;5;129;01min\u001b[39;00m communities]\n\u001b[1;32m    169\u001b[0m \u001b[38;5;66;03m# Finally, choose the new community\u001b[39;00m\n\u001b[1;32m    170\u001b[0m \u001b[38;5;66;03m# Use [0][0] to extract the community, since choices returns a list, containing a single (C, 𝛥𝓗) tuple\u001b[39;00m\n\u001b[1;32m    171\u001b[0m Cₙ \u001b[38;5;241m=\u001b[39m choices(communities, weights\u001b[38;5;241m=\u001b[39mweights, k\u001b[38;5;241m=\u001b[39m\u001b[38;5;241m1\u001b[39m)[\u001b[38;5;241m0\u001b[39m][\u001b[38;5;241m0\u001b[39m]\n",
      "File \u001b[0;32m~/Documents/Homework/SNA/Final/louvain_leiden/community_detection/leiden.py:167\u001b[0m, in \u001b[0;36m<listcomp>\u001b[0;34m(.0)\u001b[0m\n\u001b[1;32m    165\u001b[0m communities \u001b[38;5;241m=\u001b[39m [(C, 𝛥𝓗) \u001b[38;5;28;01mfor\u001b[39;00m (C, 𝛥𝓗) \u001b[38;5;129;01min\u001b[39;00m ((C, 𝓗\u001b[38;5;241m.\u001b[39mdelta(𝓟, v, C)) \u001b[38;5;28;01mfor\u001b[39;00m C \u001b[38;5;129;01min\u001b[39;00m 𝓣) \u001b[38;5;28;01mif\u001b[39;00m 𝛥𝓗 \u001b[38;5;241m>\u001b[39m\u001b[38;5;241m=\u001b[39m \u001b[38;5;241m0\u001b[39m]\n\u001b[1;32m    166\u001b[0m \u001b[38;5;66;03m# Calculate the weights for the random choice using the 𝛥𝓗 values\u001b[39;00m\n\u001b[0;32m--> 167\u001b[0m weights \u001b[38;5;241m=\u001b[39m [\u001b[43mexp\u001b[49m\u001b[43m(\u001b[49m\u001b[43m𝛥𝓗\u001b[49m\u001b[43m \u001b[49m\u001b[38;5;241;43m/\u001b[39;49m\u001b[43m \u001b[49m\u001b[43mθ\u001b[49m\u001b[43m)\u001b[49m \u001b[38;5;28;01mfor\u001b[39;00m (C, 𝛥𝓗) \u001b[38;5;129;01min\u001b[39;00m communities]\n\u001b[1;32m    169\u001b[0m \u001b[38;5;66;03m# Finally, choose the new community\u001b[39;00m\n\u001b[1;32m    170\u001b[0m \u001b[38;5;66;03m# Use [0][0] to extract the community, since choices returns a list, containing a single (C, 𝛥𝓗) tuple\u001b[39;00m\n\u001b[1;32m    171\u001b[0m Cₙ \u001b[38;5;241m=\u001b[39m choices(communities, weights\u001b[38;5;241m=\u001b[39mweights, k\u001b[38;5;241m=\u001b[39m\u001b[38;5;241m1\u001b[39m)[\u001b[38;5;241m0\u001b[39m][\u001b[38;5;241m0\u001b[39m]\n",
      "\u001b[0;31mOverflowError\u001b[0m: math range error"
     ]
    }
   ],
   "source": [
    "from tqdm import tqdm\n",
    "\n",
    "# Run louvain and leiden algorithms for all resolutions with the Modularity quality function\n",
    "coms_louvain_mod, times_louvain_mod = map(list, zip(*[louvain(G, Modularity(res)) for res in tqdm(resolutions_mod, desc=\"Louvain Modularity\")]))\n",
    "coms_leiden_mod,  times_leiden_mod  = map(list, zip(*[leiden (G, Modularity(res)) for res in tqdm(resolutions_mod, desc=\"Leiden Modularity\")]))\n",
    "# Now repeat this with CPM as the quality function\n",
    "coms_louvain_cpm, times_louvain_cpm = map(list, zip(*[louvain(G, CPM(res)) for res in tqdm(resolutions_cpm, desc=\"Louvain CPM\")]))\n",
    "coms_leiden_cpm,  times_leiden_cpm  = map(list, zip(*[leiden (G, CPM(res), θ=0.8) for res in tqdm(resolutions_cpm, desc=\"Leiden CPM\")]))"
   ]
  },
  {
   "cell_type": "code",
   "execution_count": null,
   "id": "cd0978a3",
   "metadata": {},
   "outputs": [],
   "source": [
    "mod = Modularity(1.0)\n",
    "mod_louvain_mod = [mod(part) for part in coms_louvain_mod]\n",
    "mod_leiden_mod  = [mod(part) for part in coms_leiden_mod]\n",
    "mod_louvain_cpm = [mod(part) for part in coms_louvain_cpm]\n",
    "mod_leiden_cpm  = [mod(part) for part in coms_leiden_cpm]"
   ]
  },
  {
   "cell_type": "code",
   "execution_count": null,
   "id": "7274ce29",
   "metadata": {},
   "outputs": [],
   "source": [
    "idx_louvain_mod = argmax(lambda x: x, mod_louvain_mod)[2]\n",
    "idx_leiden_mod  = argmax(lambda x: x, mod_leiden_mod)[2]\n",
    "idx_louvain_cpm = argmax(lambda x: x, mod_louvain_cpm)[2]\n",
    "idx_leiden_cpm  = argmax(lambda x: x, mod_leiden_cpm)[2]\n",
    "\n",
    "print(f\"Best result for Louvain algorithm with Mod.: Modularity={mod_louvain_mod[idx_louvain_mod]:0.5f} \" +\n",
    "      f\"with γ={resolutions_mod[idx_louvain_mod]:.3f}, yielding {len(coms_louvain_mod[idx_louvain_mod])} communities\")\n",
    "print(f\"Best result for Leiden algorithm with Mod.:  Modularity={mod_leiden_mod[idx_leiden_mod]:0.5f} \" +\n",
    "      f\"with γ={resolutions_mod[idx_leiden_mod]:.3f}, yielding {len(coms_leiden_mod[idx_leiden_mod])} communities\")\n",
    "\n",
    "print(f\"Best result for Louvain algorithm with CPM:  Modularity={mod_louvain_cpm[idx_louvain_cpm]:0.5f} \" +\n",
    "      f\"with γ={resolutions_cpm[idx_louvain_cpm]:.3f}, yielding {len(coms_louvain_cpm[idx_louvain_cpm])} communities\")\n",
    "print(f\"Best result for Leiden algorithm with CPM:   Modularity={mod_leiden_cpm[idx_leiden_cpm]:0.5f} \" +\n",
    "      f\"with γ={resolutions_cpm[idx_leiden_cpm]:.3f}, yielding {len(coms_leiden_cpm[idx_leiden_cpm])} communities\")"
   ]
  },
  {
   "cell_type": "code",
   "execution_count": null,
   "id": "12062ce6",
   "metadata": {
    "scrolled": false
   },
   "outputs": [],
   "source": [
    "# Set up two graphs, side by side, to plot the results in\n",
    "fig, (ax1, ax2) = plt.subplots(1, 2, figsize=(10, 4))\n",
    "ax2.yaxis.set_tick_params(labelbottom=True)\n",
    "\n",
    "## Left graph, for modularity\n",
    "ax1.set_title(\"Modularity\")\n",
    "ax1.set_xlabel('Resolution $γ$ of quality function')\n",
    "ax1.set_ylabel('Quality of resulting partition')\n",
    "\n",
    "## Right graph, for CPM\n",
    "ax2.set_title(\"CPM\")\n",
    "ax2.set_xlabel('Resolution $γ$ of quality function')\n",
    "ax2.set_ylabel('Quality of resulting partition')\n",
    "\n",
    "# Draw the results for the modularity quality function\n",
    "## Plot the modularity determined\n",
    "ln_mod_louvain_mod, = ax1.plot(resolutions_mod, mod_louvain_mod, label='Quality Louvain')\n",
    "ln_mod_leiden_mod,  = ax1.plot(resolutions_mod, mod_leiden_mod,  label='Quality Leiden')\n",
    "\n",
    "## Draw the x marks where maximum quality is attained\n",
    "ax1.set_prop_cycle(None)\n",
    "ax1.plot(resolutions_mod[idx_louvain_mod], mod_louvain_mod[idx_louvain_mod], 'x')\n",
    "ax1.plot(resolutions_mod[idx_leiden_mod],  mod_leiden_mod[idx_leiden_mod],   'x')\n",
    "\n",
    "# Draw the results for the CPM quality function\n",
    "## Plot the modularity determined\n",
    "ln_mod_louvain_cpm, = ax2.plot(resolutions_cpm, mod_louvain_cpm, label='Louvain CPM')\n",
    "ln_mod_leiden_cpm,  = ax2.plot(resolutions_cpm, mod_leiden_cpm,  label='Leiden CPM')\n",
    "\n",
    "## Draw the x marks where maximum quality is attained\n",
    "ax2.set_prop_cycle(None)\n",
    "ax2.plot(resolutions_cpm[idx_louvain_cpm], mod_louvain_cpm[idx_louvain_cpm], 'x')\n",
    "ax2.plot(resolutions_cpm[idx_leiden_cpm],  mod_leiden_cpm[idx_leiden_cpm],   'x')\n",
    "\n",
    "# Put a legend there\n",
    "lgd = fig.legend(handles=[ln_mod_louvain_mod, ln_mod_leiden_mod], ncol=4,\n",
    "                 loc='upper center', bbox_to_anchor=(0.5, 0.0))\n",
    "\n",
    "# Draw the plot\n",
    "fig.tight_layout()\n",
    "fig.subplots_adjust(wspace=0.4)\n",
    "plt.show()\n",
    "# fig.savefig(\"quality_comparison.png\", bbox_extra_artists=(lgd,), bbox_inches='tight')"
   ]
  },
  {
   "cell_type": "code",
   "execution_count": null,
   "id": "5ae0225f",
   "metadata": {},
   "outputs": [],
   "source": [
    "# Set up two graphs, side by side, to plot the results in\n",
    "fig, (ax1, ax2) = plt.subplots(1, 2, figsize=(10, 4))\n",
    "ax2.yaxis.set_tick_params(labelbottom=True)\n",
    "\n",
    "## Left graph, for modularity\n",
    "ax1.set_title(\"Modularity\")\n",
    "ax1.set_xlabel('Resolution $γ$ of quality function')\n",
    "ax1.set_ylabel('Number of detected communities')\n",
    "\n",
    "## Plot the number of found communities\n",
    "ln_cnt_louvain_mod, = ax1.plot(resolutions_mod, list(map(len, coms_louvain_mod)), label='Community count Louvain')\n",
    "ln_cnt_leiden_mod,  = ax1.plot(resolutions_mod, list(map(len, coms_leiden_mod)), label='Community count Leiden')\n",
    "\n",
    "\n",
    "\n",
    "## Right graph, for CPM\n",
    "ax2.set_title(\"CPM\")\n",
    "ax2.set_xlabel('Resolution $γ$ of quality function')\n",
    "ax2.set_ylabel('Number of detected communities')\n",
    "\n",
    "## Plot the number of found communities\n",
    "ln_cnt_louvain_cpm, = ax2.plot(resolutions_cpm, list(map(len, coms_louvain_cpm)), label='Community count')\n",
    "ln_cnt_leiden_cpm,  = ax2.plot(resolutions_cpm, list(map(len, coms_leiden_cpm)), label='Community count')\n",
    "\n",
    "\n",
    "# Put a legend there\n",
    "lgd = fig.legend(handles=[ln_cnt_louvain_mod, ln_cnt_leiden_mod], ncol=4,\n",
    "                 loc='upper center', bbox_to_anchor=(0.5, 0.0))\n",
    "\n",
    "# Draw the plot\n",
    "fig.tight_layout()\n",
    "fig.subplots_adjust(wspace=0.4)\n",
    "plt.show()\n",
    "# fig.savefig(\"community_count.png\", bbox_extra_artists=(lgd,), bbox_inches='tight')"
   ]
  },
  {
   "cell_type": "code",
   "execution_count": null,
   "id": "7ab826a1",
   "metadata": {},
   "outputs": [],
   "source": [
    "# Export the graph, taking care to export the legend as well\n",
    "# fig.savefig('figures/mod-cpm-comparison.pdf', bbox_extra_artists=(lgd,), bbox_inches='tight')"
   ]
  },
  {
   "cell_type": "code",
   "execution_count": null,
   "id": "2c1333e5",
   "metadata": {
    "scrolled": false
   },
   "outputs": [],
   "source": [
    "# Set up two graphs, side by side, to plot the results in\n",
    "fig, (ax1, ax2) = plt.subplots(1, 2, figsize=(10, 4), sharey=True)\n",
    "ax2.yaxis.set_tick_params(labelbottom=True)\n",
    "\n",
    "## Left graph, for modularity\n",
    "ax1.set_title(\"Modularity\")\n",
    "ax1.set_xlabel('Resolution $γ$ of quality function')\n",
    "ax1.set_ylabel('Runtime [s]')\n",
    "\n",
    "## Right graph, for CPM\n",
    "ax2.set_title(\"CPM\")\n",
    "ax2.set_xlabel('Resolution $γ$ of quality function')\n",
    "ax2.set_ylabel('Runtime [s]')\n",
    "\n",
    "# Draw the results for the modularity quality function\n",
    "## Plot the modularity determined\n",
    "ln_time_louvain_mod, = ax1.plot(resolutions_mod, times_louvain_mod, label='Runtime [s] Louvain')\n",
    "ln_time_leiden_mod,  = ax1.plot(resolutions_mod, times_leiden_mod,  label='Runtime [s] Leiden')\n",
    "\n",
    "# Draw the results for the CPM quality function\n",
    "## Plot the modularity determined\n",
    "ln_time_louvain_cpm, = ax2.plot(resolutions_cpm, times_louvain_cpm, label='Runtime [s] Louvain')\n",
    "ln_time_leiden_cpm,  = ax2.plot(resolutions_cpm, times_leiden_cpm,  label='Runtime [s] Leiden')\n",
    "\n",
    "# Put a legend there\n",
    "lgd = fig.legend(handles=[ln_time_louvain_mod, ln_time_leiden_mod,], ncol=2,\n",
    "                 loc='upper center', bbox_to_anchor=(0.5, 0.0))\n",
    "\n",
    "# Draw the plot\n",
    "fig.tight_layout()\n",
    "fig.subplots_adjust(wspace=0.4)\n",
    "plt.show()"
   ]
  },
  {
   "cell_type": "code",
   "execution_count": null,
   "id": "5a90876a",
   "metadata": {},
   "outputs": [],
   "source": [
    "# Export the graph, taking care to export the legend as well\n",
    "# fig.savefig('figures/mod-cpm-times.pdf', bbox_extra_artists=(lgd,), bbox_inches='tight')"
   ]
  }
 ],
 "metadata": {
  "kernelspec": {
   "display_name": "sna",
   "language": "python",
   "name": "python3"
  },
  "language_info": {
   "codemirror_mode": {
    "name": "ipython",
    "version": 3
   },
   "file_extension": ".py",
   "mimetype": "text/x-python",
   "name": "python",
   "nbconvert_exporter": "python",
   "pygments_lexer": "ipython3",
   "version": "3.10.13"
  }
 },
 "nbformat": 4,
 "nbformat_minor": 5
}
