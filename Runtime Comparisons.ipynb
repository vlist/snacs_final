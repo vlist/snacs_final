{
 "cells": [
  {
   "cell_type": "markdown",
   "id": "388dc763-89b2-4c03-89ea-c033872e70c7",
   "metadata": {},
   "source": [
    "# Runtime experiments and comparisions"
   ]
  },
  {
   "cell_type": "code",
   "execution_count": null,
   "id": "fef6af20",
   "metadata": {},
   "outputs": [],
   "source": [
    "\n",
    "import itertools\n",
    "import random\n",
    "import timeit\n",
    "\n",
    "import networkx as nx\n",
    "import igraph as ig\n",
    "\n",
    "import datasets.cosnology as cosnology\n",
    "import datasets.email_enron as email_enron\n",
    "import datasets.facebook_combined as facebook_combined\n",
    "import datasets.brightkite_edges as brightkite\n",
    "import datasets.roadnet_CA as roadnet_CA\n",
    "import datasets.wiki_vote as wiki_vote\n",
    "\n",
    "\n",
    "random.seed(42)"
   ]
  },
  {
   "cell_type": "code",
   "execution_count": 2,
   "id": "2cd21b73",
   "metadata": {},
   "outputs": [],
   "source": [
    "# graphs = [ nx.karate_club_graph(), jazz.get_graph(), cora.get_graph(), grcq.get_graph() ]\n",
    "# graph_names = [ 'Karate Club', 'Jazz Musicians', 'Cora Citations', 'Arxiv GR-QC' ]\n",
    "\n",
    "graphs = [ nx.karate_club_graph(), cosnology.get_graph(), email_enron.get_graph(), facebook_combined.get_graph(), brightkite.get_graph(), roadnet_CA.get_graph(), wiki_vote.get_graph() ]\n",
    "graphs = [ig.Graph.from_networkx(g) for g in graphs]\n",
    "graph_names = [ 'Karate Club', 'Cosnology', 'Email Enron', 'Facebook', 'Brightkite', 'Roadnet CA', 'Wiki Vote' ]"
   ]
  },
  {
   "cell_type": "code",
   "execution_count": 3,
   "id": "a9c5ad44",
   "metadata": {},
   "outputs": [
    {
     "name": "stdout",
     "output_type": "stream",
     "text": [
      "Karate Club: IGRAPH U-W- 34 78 -- Zachary's Karate Club\n",
      "+ attr: name (g), _nx_name (v), club (v), weight (e) \n",
      "Cosnology: IGRAPH U--- 5242 14496 -- \n",
      "+ attr: _nx_name (v) \n",
      "Email Enron: IGRAPH U--- 36692 183831 -- \n",
      "+ attr: _nx_name (v) \n",
      "Facebook: IGRAPH U--- 4039 88234 -- \n",
      "+ attr: _nx_name (v) \n",
      "Brightkite: IGRAPH U--- 58228 214078 -- \n",
      "+ attr: _nx_name (v) \n",
      "Roadnet CA: IGRAPH U--- 1965206 2766607 -- \n",
      "+ attr: _nx_name (v) \n",
      "Wiki Vote: IGRAPH U--- 7115 100762 -- \n",
      "+ attr: _nx_name (v) \n"
     ]
    }
   ],
   "source": [
    "for graph, graph_name in zip(graphs, graph_names):\n",
    "    print(f'{graph_name}: {str(graph.summary())} ')"
   ]
  },
  {
   "cell_type": "code",
   "execution_count": 4,
   "id": "aafdc0d3",
   "metadata": {},
   "outputs": [
    {
     "name": "stderr",
     "output_type": "stream",
     "text": [
      "/var/folders/xc/yp5mkx455gq2n2b658qm_3_c0000gn/T/ipykernel_2642/1365607280.py:2: DeprecationWarning: This package has been superseded by the `leidenalg` package and will no longer be maintained. Please upgrade to the `leidenalg` package.\n",
      "  import louvain\n"
     ]
    }
   ],
   "source": [
    "import leidenalg\n",
    "import louvain\n",
    "# 𝓗 = Modularity(1.0)\n",
    "\n",
    "fn_louvain_mod = lambda G: louvain.find_partition(G, louvain.ModularityVertexPartition)\n",
    "fn_leiden_mod  = lambda G: leidenalg.find_partition(G, leidenalg.ModularityVertexPartition)\n",
    "\n",
    "# 𝓗 = CPM(0.95)\n",
    "fn_louvain_cpm = lambda G: louvain.find_partition(G, louvain.CPMVertexPartition)\n",
    "fn_leiden_cpm  = lambda G: leidenalg.find_partition(G, leidenalg.CPMVertexPartition)\n",
    "\n",
    "\n",
    "algorithms = [ fn_louvain_mod, fn_louvain_cpm, fn_leiden_mod, fn_leiden_cpm ]\n",
    "algo_names = [ 'Louvain (Mod)', 'Louvain (CPM)', 'Leiden (Mod)', 'Leiden (CPM)']"
   ]
  },
  {
   "cell_type": "code",
   "execution_count": 5,
   "id": "34272a92",
   "metadata": {},
   "outputs": [],
   "source": [
    "times = {}"
   ]
  },
  {
   "cell_type": "code",
   "execution_count": 6,
   "id": "f150d3e0",
   "metadata": {},
   "outputs": [
    {
     "name": "stdout",
     "output_type": "stream",
     "text": [
      "Running Louvain (Mod) on Karate Club … execution time: ~ 0.000269 seconds.\n",
      "Running Louvain (CPM) on Karate Club … execution time: ~ 0.000087 seconds.\n",
      "Running Leiden (Mod) on Karate Club … execution time: ~ 0.000869 seconds.\n",
      "Running Leiden (CPM) on Karate Club … execution time: ~ 0.000416 seconds.\n",
      "Running Louvain (Mod) on Cosnology … execution time: ~ 0.043044 seconds.\n",
      "Running Louvain (CPM) on Cosnology … execution time: ~ 0.011175 seconds.\n",
      "Running Leiden (Mod) on Cosnology … execution time: ~ 0.100865 seconds.\n",
      "Running Leiden (CPM) on Cosnology … execution time: ~ 0.052582 seconds.\n",
      "Running Louvain (Mod) on Email Enron … execution time: ~ 0.603307 seconds.\n",
      "Running Louvain (CPM) on Email Enron … execution time: ~ 0.116740 seconds.\n",
      "Running Leiden (Mod) on Email Enron … execution time: ~ 1.139032 seconds.\n",
      "Running Leiden (CPM) on Email Enron … execution time: ~ 0.510745 seconds.\n",
      "Running Louvain (Mod) on Facebook … execution time: ~ 0.075346 seconds.\n",
      "Running Louvain (CPM) on Facebook … execution time: ~ 0.034451 seconds.\n",
      "Running Leiden (Mod) on Facebook … execution time: ~ 0.208009 seconds.\n",
      "Running Leiden (CPM) on Facebook … execution time: ~ 0.147571 seconds.\n",
      "Running Louvain (Mod) on Brightkite … execution time: ~ 0.870898 seconds.\n",
      "Running Louvain (CPM) on Brightkite … execution time: ~ 0.158342 seconds.\n",
      "Running Leiden (Mod) on Brightkite … execution time: ~ 1.685763 seconds.\n",
      "Running Leiden (CPM) on Brightkite … execution time: ~ 0.713833 seconds.\n",
      "Running Louvain (Mod) on Roadnet CA … execution time: ~ 45.983364 seconds.\n",
      "Running Louvain (CPM) on Roadnet CA … execution time: ~ 4.991504 seconds.\n",
      "Running Leiden (Mod) on Roadnet CA … execution time: ~ 47.618056 seconds.\n",
      "Running Leiden (CPM) on Roadnet CA … execution time: ~ 21.674825 seconds.\n",
      "Running Louvain (Mod) on Wiki Vote … execution time: ~ 0.089668 seconds.\n",
      "Running Louvain (CPM) on Wiki Vote … execution time: ~ 0.044532 seconds.\n",
      "Running Leiden (Mod) on Wiki Vote … execution time: ~ 0.388204 seconds.\n",
      "Running Leiden (CPM) on Wiki Vote … execution time: ~ 0.188090 seconds.\n"
     ]
    }
   ],
   "source": [
    "\n",
    "\n",
    "for ((graph, g_name), (algo, a_name)) in itertools.product(zip(graphs, graph_names), zip(algorithms, algo_names)):\n",
    "    print(f\"Running {a_name} on {g_name} … \", end='')\n",
    "    # First, build a callable, that will repeatedly be run to measure the average execution time:\n",
    "    test_callable = lambda: algo(graph)\n",
    "    time = min(timeit.repeat(stmt=test_callable, repeat=5, number=1))\n",
    "    times[(a_name,g_name)] = time\n",
    "    print(f\"execution time: ~ {time:.6f} seconds.\")"
   ]
  },
  {
   "cell_type": "code",
   "execution_count": null,
   "id": "7ea2bc38",
   "metadata": {},
   "outputs": [
    {
     "name": "stdout",
     "output_type": "stream",
     "text": [
      "Graph | Size | Louvain (Mod) | Louvain (CPM) | Leiden (Mod) | Leiden (CPM)\n",
      "   Karate Club |    34 / 78     |     0.000269 s |     0.000087 s |     0.000869 s |     0.000416 s\n",
      "     Cosnology |  5242 / 14496  |     0.043044 s |     0.011175 s |     0.100865 s |     0.052582 s\n",
      "   Email Enron | 36692 / 183831 |     0.603307 s |     0.116740 s |     1.139032 s |     0.510745 s\n",
      "      Facebook |  4039 / 88234  |     0.075346 s |     0.034451 s |     0.208009 s |     0.147571 s\n",
      "    Brightkite | 58228 / 214078 |     0.870898 s |     0.158342 s |     1.685763 s |     0.713833 s\n",
      "    Roadnet CA | 1965206 / 2766607 |    45.983364 s |     4.991504 s |    47.618056 s |    21.674825 s\n",
      "     Wiki Vote | 7115 / 100762  |     0.089668 s |     0.044532 s |     0.388204 s |     0.188090 s\n"
     ]
    }
   ],
   "source": [
    "print(\"Graph | Size | Louvain (Mod) | Louvain (CPM) | Leiden (Mod) | Leiden (CPM)\")\n",
    "\n",
    "for graph, graph_name in zip(graphs, graph_names):\n",
    "    print(f\"{graph_name: >14}\", end='')\n",
    "    print(f\" | {str(graph.vcount()) + ' / ' + str(graph.ecount()): ^14}\", end='')\n",
    "    for algo in algo_names:\n",
    "        time = times[(algo, graph_name)]\n",
    "        print(f\" | {time: >12.6f} s\", end='')\n",
    "    print()\n",
    "    \n"
   ]
  },
  {
   "cell_type": "markdown",
   "id": "1041a2f7",
   "metadata": {},
   "source": [
    "These tests were run on Macbook Air (2020) M1 with 16GB RAM, macOS Sequoia 15.1.1 (Darwin Kernel Version 24.1.0)"
   ]
  }
 ],
 "metadata": {
  "kernelspec": {
   "display_name": "sna",
   "language": "python",
   "name": "python3"
  },
  "language_info": {
   "codemirror_mode": {
    "name": "ipython",
    "version": 3
   },
   "file_extension": ".py",
   "mimetype": "text/x-python",
   "name": "python",
   "nbconvert_exporter": "python",
   "pygments_lexer": "ipython3",
   "version": "3.10.13"
  }
 },
 "nbformat": 4,
 "nbformat_minor": 5
}
